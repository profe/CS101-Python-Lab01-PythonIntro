{
  "nbformat": 4,
  "nbformat_minor": 0,
  "metadata": {
    "colab": {
      "provenance": [],
      "toc_visible": true
    },
    "kernelspec": {
      "name": "python3",
      "display_name": "Python 3"
    },
    "language_info": {
      "name": "python"
    }
  },
  "cells": [
    {
      "cell_type": "markdown",
      "source": [
        "# Lab 01: Data, Functions, and Console I/O\n",
        "\n",
        "***Create a Carbon Footprint Calculation Program***\n",
        "\n",
        "_Learning Objectives: Demonstrate an understanding of how to write functions. Demonstrate effective use of console input and output._"
      ],
      "metadata": {
        "id": "V2YR6Q8_xgWj"
      }
    },
    {
      "cell_type": "markdown",
      "source": [
        "## Introduction\n",
        "[Greenhouse gases](https://www.epa.gov/ghgemissions/overview-greenhouse-gases) (GHG) are gases that trap heat in the atmosphere. Humans are contributing to the creation of more GHG every second.\n",
        "\n",
        "One of the first steps to reducing GHG is understanding how much of a footprint you are leaving on your planet.  \n",
        "[Simple calculator for your carbon footprint](https://www.nature.org/en-us/get-involved/how-to-help/carbon-footprint-calculator/#:~:text=A%20carbon%20footprint%20is%20the,highest%20rates%20in%20the%20world.)\n",
        "\n",
        "In this lab you are going to create a function in Python. [This spreadsheet](https://drive.google.com/file/d/1X2hB1dmH291D-Rtd6HE8lPt3YaH64IYb/view?usp=sharing) has the original formulas used below if you'd like to explore/understand more."
      ],
      "metadata": {
        "id": "8rJ7jQ14BGtG"
      }
    },
    {
      "cell_type": "markdown",
      "source": [
        "## Directions\n",
        "\n",
        "*For each step below, fill in the empty code cells with your attempt for that step following the provided instructions.*"
      ],
      "metadata": {
        "id": "BwgNAO_yBIbk"
      }
    },
    {
      "cell_type": "markdown",
      "source": [
        "### Step 1\n",
        "Fill in your name and the date at the top. Note the three quotes ''' before and after this section. Those make a _block comment_, something useful for programmers to read but that the compiler ignores (even if there's code inside!).\n",
        "\n",
        "Finally, print a welcome message for your project. Run your code cell, the only output should be the welcome message!"
      ],
      "metadata": {
        "id": "uXop8N9lA_E6"
      }
    },
    {
      "cell_type": "code",
      "source": [
        "'''\n",
        "Greenhouse Gases (GHG) Calculator\n",
        "\n",
        "Author:\n",
        "\n",
        "Last Modified:\n",
        "'''\n",
        "\n",
        "#print welcome here"
      ],
      "metadata": {
        "colab": {
          "base_uri": "https://localhost:8080/",
          "height": 35
        },
        "id": "FdwfgVoMxf-E",
        "outputId": "36fde4ce-a872-467d-e5e6-3654def55729"
      },
      "execution_count": 1,
      "outputs": [
        {
          "output_type": "execute_result",
          "data": {
            "text/plain": [
              "'\\nGreenhouse Gases (GHG) Calculator\\n\\nAuthor: \\n\\nLast Modified: \\n'"
            ],
            "application/vnd.google.colaboratory.intrinsic+json": {
              "type": "string"
            }
          },
          "metadata": {},
          "execution_count": 1
        }
      ]
    },
    {
      "cell_type": "markdown",
      "source": [
        "### Step 2\n",
        "Write a `calc_car_emissions` function. You will need to use  the keyword `def` which tells the interpreter this is a function definition. After the name of the method follow parentheses around words which we call _parameters_. These are data fed into the function, like the little orange variables in the Snap! custom block editor.\n",
        "*\t`mpg`: vehicle's average miles per gallon\n",
        "*\t`avg_miles_driven`: average number of miles driven per year\n",
        "\n",
        "Inside the definition put you will calculate the annual carbon produced and return the result. Use the following formula for annual car emissions:\n",
        "\n",
        "  $$\\frac{1}{\\text{miles per gallon}} \\times \\text{average miles driven} \\times \\text{emission factor} \\times \\text{ratio of emissions}$$\n",
        "\\\n",
        "  $$\\text{where } \\text{emission factor} = 19.6,$$\n",
        "  $$\\text{ratio of emissions} = \\frac{100}{98.65}$$\n",
        "\n",
        "The formula is in [this spreadsheet](https://drive.google.com/file/d/1X2hB1dmH291D-Rtd6HE8lPt3YaH64IYb/view?usp=sharing) in the **Assumptions** tab cell C9 if you're curious where it comes from.\n",
        "\n",
        "You'll want to end your function using the `return` keyword, which is like report in Snap!, to report back data from the function. Python requires lines of code to be positioned in a particular way to run properly. Be sure these two lines, your calculation and the return, are indented one level (i.e. tab in) from where the function header starts.\n",
        "\n",
        "Finally, to test your function, you'll want to call the function using the following structure:\n",
        "`name_of_function(data1, data2)` where you'll use `calc_car_emissions` as the function name, and put actual data for the argument values (such as 18 and 14000 for the mpg and average miles driven, respectively). Don't forget to print that function call as well, otherwise you won't see the result (which should be 15453.060764768821 for the example values of 18 and 14000)!\n",
        "\n",
        "Click Run and fix any errors, repeat until you get it working (feel free to ask classmates, instructor, tutors, etc. for support!)"
      ],
      "metadata": {
        "id": "YljTL_4PnkvM"
      }
    },
    {
      "cell_type": "code",
      "source": [
        "### Step 2 Create your function definition for calc_car_emissions here\n",
        "def calc_car_emissions(mpg, avg_miles_driven):\n",
        "    '''Calculates the average annual vehicle emissions using equation from cell C9\n",
        "  Parameters\n",
        "  ----------\n",
        "  mpg\n",
        "\t  vehicle's average miles per gallon\n",
        "  avg_miles_driven\n",
        "\t  average number of miles driven per year\n",
        "\t'''\n",
        "    #calc and return code here\n",
        "\n",
        "#add test and print here"
      ],
      "metadata": {
        "id": "_w78tEMWn794"
      },
      "execution_count": 2,
      "outputs": []
    },
    {
      "cell_type": "markdown",
      "source": [
        "### Step 3\n",
        "Now that you have your function working and flexible, let's get input from the user! Get values for mpg and average miles driven from the user using the `input` function for each.\n",
        "\n",
        "Call the `calc_car_emissions` function with the user input and print the result to the console. It should look something like this:\n",
        "```\n",
        "Enter your average mpg: 30\n",
        "Enter your average yearly miles driven: 5000\n",
        "Your car produces 3311.370163879033 pounds of CO2 per year.\n",
        "```\n",
        "\n",
        "*Note: your `calc_car_emissions` function defined above can be used here! No need to copy/paste the function definition here, just call it!*"
      ],
      "metadata": {
        "id": "qs11zWVpoBYx"
      }
    },
    {
      "cell_type": "code",
      "source": [
        "# Get input from user\n",
        "# Since we are going to be calling the function calc_car_emissions(mpg, avg_miles_driven)\n",
        "# We know that we are going to need a variable for mpg and avg_miles_driven\n",
        "\n",
        "\n",
        "# We now have the two variables we need for our calc_car_emissions, so we can call it with those values\n",
        "# We are also going to assign the value to a variable so we can use it later\n",
        "\n",
        "\n",
        "print()  #skip line\n",
        "\n",
        "# Print out the values\n"
      ],
      "metadata": {
        "colab": {
          "base_uri": "https://localhost:8080/"
        },
        "id": "7VCkbQI_rV1V",
        "outputId": "402f0c19-5a8b-4d96-c186-4f9dca5bd80e"
      },
      "execution_count": 3,
      "outputs": [
        {
          "output_type": "stream",
          "name": "stdout",
          "text": [
            "\n"
          ]
        }
      ]
    },
    {
      "cell_type": "markdown",
      "source": [
        "### Step 4\n",
        "Amazing! Now that we can call your custom function, as well as use user input with it, let's add some more scenarios to our program to make it more useful.\n",
        "\n",
        "Tell the user what the average car produces by using 21.6 mpg and average miles of 219/week (tip: multiply by 52 to get the average miles per year!). The output should look something like this:\n",
        "# New Section\n",
        "    The average US car produces 10474.967618404009 pounds of CO2 per year.\n",
        "\n"
      ],
      "metadata": {
        "id": "n9jhqIelrWWn"
      }
    },
    {
      "cell_type": "code",
      "source": [
        "print()  #skip line\n",
        "# Calculate and print the US average\n"
      ],
      "metadata": {
        "colab": {
          "base_uri": "https://localhost:8080/"
        },
        "id": "KhjDdO0lZ7Xo",
        "outputId": "f52ee480-af35-4e80-dc65-9566d7ef68f0"
      },
      "execution_count": 4,
      "outputs": [
        {
          "output_type": "stream",
          "name": "stdout",
          "text": [
            "\n"
          ]
        }
      ]
    },
    {
      "cell_type": "markdown",
      "source": [
        "Tell the user what their carbon production would be if they improved their mpg by 2, it should look something like this:\n",
        "\n",
        "    If your mpg was 32 mpg, then your car emissions would be 3104.4095286365937 pounds of CO2 per year. That's 206.96063524243937 pounds less!\n"
      ],
      "metadata": {
        "id": "TD3dW3nTZ79t"
      }
    },
    {
      "cell_type": "code",
      "source": [
        "# Calculate and print the two comparison values\n"
      ],
      "metadata": {
        "id": "c-xToXeMZ_2v"
      },
      "execution_count": 5,
      "outputs": []
    },
    {
      "cell_type": "markdown",
      "source": [
        "Tell the user what their carbon production would be if they improved their average miles driven by 10%. Should look something like this:\n",
        "\n",
        "    If you drove 10% less miles, then your annual car emissions would be 2980.2331474911302 pounds of CO2 per year. That's about 331.1370163879028 pounds less!\n"
      ],
      "metadata": {
        "id": "HVlVaJQPaABW"
      }
    },
    {
      "cell_type": "code",
      "source": [
        "print()  #skip line\n",
        "\n",
        "# Calculate and print the two comparison values"
      ],
      "metadata": {
        "colab": {
          "base_uri": "https://localhost:8080/"
        },
        "id": "Zq6f3ANFrZGM",
        "outputId": "5c0f13bb-e800-4ab3-bb2b-7486bafb9f2e"
      },
      "execution_count": 6,
      "outputs": [
        {
          "output_type": "stream",
          "name": "stdout",
          "text": [
            "\n"
          ]
        }
      ]
    },
    {
      "cell_type": "markdown",
      "source": [
        "### Step 5\n",
        "Notice how in the output there are a lot of numbers after the decimal point. Let's clean that up by using formatted output.\n",
        "\n",
        "The output should now look like:\n",
        "\n",
        "    Enter your average mpg: 30\n",
        "    Enter your average yearly miles driven: 5000\n",
        "\n",
        "    Your car produces 3311.37 pounds of CO2 per year.\n",
        "\n",
        "    The average US car produces 10474.97 pounds of CO2 per year.\n",
        "\n",
        "    If your mpg was 32, then your car emissions would be 3104.41 pounds of CO2 per year. That's about 207 pounds less!\n",
        "\n",
        "    If you drove 10% less miles, then your annual car emissions would be 2980.23 pounds of CO2 per year. That's about 331.1 pounds less!"
      ],
      "metadata": {
        "id": "jVb-eODqrZft"
      }
    },
    {
      "cell_type": "code",
      "source": [
        "print()  #skip line\n",
        "# Print out the values\n",
        "\n",
        "\n",
        "print()  #skip line\n",
        "# Calculate and print the US average\n",
        "\n",
        "\n",
        "print()  #skip line\n",
        "# Calculate and print the two comparison values\n",
        "\n",
        "\n",
        "print()  #skip line\n",
        "# Calculate and print the two comparison values\n"
      ],
      "metadata": {
        "colab": {
          "base_uri": "https://localhost:8080/"
        },
        "id": "pmn2AhzBsWqN",
        "outputId": "584f0684-87b8-4af1-f6f1-dc8ab4a17401"
      },
      "execution_count": 7,
      "outputs": [
        {
          "output_type": "stream",
          "name": "stdout",
          "text": [
            "\n",
            "\n",
            "\n",
            "\n"
          ]
        }
      ]
    },
    {
      "cell_type": "markdown",
      "source": [
        "## Submission\n",
        "\n",
        "Make sure that yours matches the expected outputs in all the instructions above (you'll have to use the same input as the examples to get the same results).\n",
        "\n",
        "When you are all done, click File > Download > Download .ipnyb from the menu at the top. You can upload this file to your Canvas assignment and submit!"
      ],
      "metadata": {
        "id": "mU6WZQPskxPQ"
      }
    }
  ]
}